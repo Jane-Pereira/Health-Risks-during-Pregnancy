{
  "nbformat": 4,
  "nbformat_minor": 0,
  "metadata": {
    "colab": {
      "provenance": [],
      "authorship_tag": "ABX9TyPdyzmKBE6mDSM8WhFfUbIC",
      "include_colab_link": true
    },
    "kernelspec": {
      "name": "python3",
      "display_name": "Python 3"
    },
    "language_info": {
      "name": "python"
    }
  },
  "cells": [
    {
      "cell_type": "markdown",
      "metadata": {
        "id": "view-in-github",
        "colab_type": "text"
      },
      "source": [
        "<a href=\"https://colab.research.google.com/github/Jane-Pereira/Health-Risks-during-Pregnancy/blob/main/hrp.ipynb\" target=\"_parent\"><img src=\"https://colab.research.google.com/assets/colab-badge.svg\" alt=\"Open In Colab\"/></a>"
      ]
    },
    {
      "cell_type": "code",
      "execution_count": 1,
      "metadata": {
        "id": "z8FXgy9K0MEj"
      },
      "outputs": [],
      "source": [
        "import pandas as pd\n",
        "import numpy as np\n",
        "import matplotlib.pyplot as plt"
      ]
    },
    {
      "cell_type": "code",
      "source": [
        "dataset = pd.read_csv(\"https://raw.githubusercontent.com/Jane-Pereira/Health-Risks-during-Pregnancy/main/Maternal%20Health%20Risk%20Data%20Set.csv\")"
      ],
      "metadata": {
        "id": "Pt7RyQpT1RjD"
      },
      "execution_count": 7,
      "outputs": []
    },
    {
      "cell_type": "code",
      "source": [
        "dataset"
      ],
      "metadata": {
        "colab": {
          "base_uri": "https://localhost:8080/",
          "height": 424
        },
        "id": "sKSQE6tX1uAk",
        "outputId": "c0a2f2ee-4859-4e35-a158-aa5d52bfaf4f"
      },
      "execution_count": 8,
      "outputs": [
        {
          "output_type": "execute_result",
          "data": {
            "text/plain": [
              "      Age  SystolicBP  DiastolicBP    BS  BodyTemp  HeartRate  RiskLevel\n",
              "0      25         130           80  15.0      98.0         86  high risk\n",
              "1      35         140           90  13.0      98.0         70  high risk\n",
              "2      29          90           70   8.0     100.0         80  high risk\n",
              "3      30         140           85   7.0      98.0         70  high risk\n",
              "4      35         120           60   6.1      98.0         76   low risk\n",
              "...   ...         ...          ...   ...       ...        ...        ...\n",
              "1009   22         120           60  15.0      98.0         80  high risk\n",
              "1010   55         120           90  18.0      98.0         60  high risk\n",
              "1011   35          85           60  19.0      98.0         86  high risk\n",
              "1012   43         120           90  18.0      98.0         70  high risk\n",
              "1013   32         120           65   6.0     101.0         76   mid risk\n",
              "\n",
              "[1014 rows x 7 columns]"
            ],
            "text/html": [
              "\n",
              "  <div id=\"df-1bfb5b46-03cc-4066-b2a0-88c6c53108cd\">\n",
              "    <div class=\"colab-df-container\">\n",
              "      <div>\n",
              "<style scoped>\n",
              "    .dataframe tbody tr th:only-of-type {\n",
              "        vertical-align: middle;\n",
              "    }\n",
              "\n",
              "    .dataframe tbody tr th {\n",
              "        vertical-align: top;\n",
              "    }\n",
              "\n",
              "    .dataframe thead th {\n",
              "        text-align: right;\n",
              "    }\n",
              "</style>\n",
              "<table border=\"1\" class=\"dataframe\">\n",
              "  <thead>\n",
              "    <tr style=\"text-align: right;\">\n",
              "      <th></th>\n",
              "      <th>Age</th>\n",
              "      <th>SystolicBP</th>\n",
              "      <th>DiastolicBP</th>\n",
              "      <th>BS</th>\n",
              "      <th>BodyTemp</th>\n",
              "      <th>HeartRate</th>\n",
              "      <th>RiskLevel</th>\n",
              "    </tr>\n",
              "  </thead>\n",
              "  <tbody>\n",
              "    <tr>\n",
              "      <th>0</th>\n",
              "      <td>25</td>\n",
              "      <td>130</td>\n",
              "      <td>80</td>\n",
              "      <td>15.0</td>\n",
              "      <td>98.0</td>\n",
              "      <td>86</td>\n",
              "      <td>high risk</td>\n",
              "    </tr>\n",
              "    <tr>\n",
              "      <th>1</th>\n",
              "      <td>35</td>\n",
              "      <td>140</td>\n",
              "      <td>90</td>\n",
              "      <td>13.0</td>\n",
              "      <td>98.0</td>\n",
              "      <td>70</td>\n",
              "      <td>high risk</td>\n",
              "    </tr>\n",
              "    <tr>\n",
              "      <th>2</th>\n",
              "      <td>29</td>\n",
              "      <td>90</td>\n",
              "      <td>70</td>\n",
              "      <td>8.0</td>\n",
              "      <td>100.0</td>\n",
              "      <td>80</td>\n",
              "      <td>high risk</td>\n",
              "    </tr>\n",
              "    <tr>\n",
              "      <th>3</th>\n",
              "      <td>30</td>\n",
              "      <td>140</td>\n",
              "      <td>85</td>\n",
              "      <td>7.0</td>\n",
              "      <td>98.0</td>\n",
              "      <td>70</td>\n",
              "      <td>high risk</td>\n",
              "    </tr>\n",
              "    <tr>\n",
              "      <th>4</th>\n",
              "      <td>35</td>\n",
              "      <td>120</td>\n",
              "      <td>60</td>\n",
              "      <td>6.1</td>\n",
              "      <td>98.0</td>\n",
              "      <td>76</td>\n",
              "      <td>low risk</td>\n",
              "    </tr>\n",
              "    <tr>\n",
              "      <th>...</th>\n",
              "      <td>...</td>\n",
              "      <td>...</td>\n",
              "      <td>...</td>\n",
              "      <td>...</td>\n",
              "      <td>...</td>\n",
              "      <td>...</td>\n",
              "      <td>...</td>\n",
              "    </tr>\n",
              "    <tr>\n",
              "      <th>1009</th>\n",
              "      <td>22</td>\n",
              "      <td>120</td>\n",
              "      <td>60</td>\n",
              "      <td>15.0</td>\n",
              "      <td>98.0</td>\n",
              "      <td>80</td>\n",
              "      <td>high risk</td>\n",
              "    </tr>\n",
              "    <tr>\n",
              "      <th>1010</th>\n",
              "      <td>55</td>\n",
              "      <td>120</td>\n",
              "      <td>90</td>\n",
              "      <td>18.0</td>\n",
              "      <td>98.0</td>\n",
              "      <td>60</td>\n",
              "      <td>high risk</td>\n",
              "    </tr>\n",
              "    <tr>\n",
              "      <th>1011</th>\n",
              "      <td>35</td>\n",
              "      <td>85</td>\n",
              "      <td>60</td>\n",
              "      <td>19.0</td>\n",
              "      <td>98.0</td>\n",
              "      <td>86</td>\n",
              "      <td>high risk</td>\n",
              "    </tr>\n",
              "    <tr>\n",
              "      <th>1012</th>\n",
              "      <td>43</td>\n",
              "      <td>120</td>\n",
              "      <td>90</td>\n",
              "      <td>18.0</td>\n",
              "      <td>98.0</td>\n",
              "      <td>70</td>\n",
              "      <td>high risk</td>\n",
              "    </tr>\n",
              "    <tr>\n",
              "      <th>1013</th>\n",
              "      <td>32</td>\n",
              "      <td>120</td>\n",
              "      <td>65</td>\n",
              "      <td>6.0</td>\n",
              "      <td>101.0</td>\n",
              "      <td>76</td>\n",
              "      <td>mid risk</td>\n",
              "    </tr>\n",
              "  </tbody>\n",
              "</table>\n",
              "<p>1014 rows × 7 columns</p>\n",
              "</div>\n",
              "      <button class=\"colab-df-convert\" onclick=\"convertToInteractive('df-1bfb5b46-03cc-4066-b2a0-88c6c53108cd')\"\n",
              "              title=\"Convert this dataframe to an interactive table.\"\n",
              "              style=\"display:none;\">\n",
              "        \n",
              "  <svg xmlns=\"http://www.w3.org/2000/svg\" height=\"24px\"viewBox=\"0 0 24 24\"\n",
              "       width=\"24px\">\n",
              "    <path d=\"M0 0h24v24H0V0z\" fill=\"none\"/>\n",
              "    <path d=\"M18.56 5.44l.94 2.06.94-2.06 2.06-.94-2.06-.94-.94-2.06-.94 2.06-2.06.94zm-11 1L8.5 8.5l.94-2.06 2.06-.94-2.06-.94L8.5 2.5l-.94 2.06-2.06.94zm10 10l.94 2.06.94-2.06 2.06-.94-2.06-.94-.94-2.06-.94 2.06-2.06.94z\"/><path d=\"M17.41 7.96l-1.37-1.37c-.4-.4-.92-.59-1.43-.59-.52 0-1.04.2-1.43.59L10.3 9.45l-7.72 7.72c-.78.78-.78 2.05 0 2.83L4 21.41c.39.39.9.59 1.41.59.51 0 1.02-.2 1.41-.59l7.78-7.78 2.81-2.81c.8-.78.8-2.07 0-2.86zM5.41 20L4 18.59l7.72-7.72 1.47 1.35L5.41 20z\"/>\n",
              "  </svg>\n",
              "      </button>\n",
              "      \n",
              "  <style>\n",
              "    .colab-df-container {\n",
              "      display:flex;\n",
              "      flex-wrap:wrap;\n",
              "      gap: 12px;\n",
              "    }\n",
              "\n",
              "    .colab-df-convert {\n",
              "      background-color: #E8F0FE;\n",
              "      border: none;\n",
              "      border-radius: 50%;\n",
              "      cursor: pointer;\n",
              "      display: none;\n",
              "      fill: #1967D2;\n",
              "      height: 32px;\n",
              "      padding: 0 0 0 0;\n",
              "      width: 32px;\n",
              "    }\n",
              "\n",
              "    .colab-df-convert:hover {\n",
              "      background-color: #E2EBFA;\n",
              "      box-shadow: 0px 1px 2px rgba(60, 64, 67, 0.3), 0px 1px 3px 1px rgba(60, 64, 67, 0.15);\n",
              "      fill: #174EA6;\n",
              "    }\n",
              "\n",
              "    [theme=dark] .colab-df-convert {\n",
              "      background-color: #3B4455;\n",
              "      fill: #D2E3FC;\n",
              "    }\n",
              "\n",
              "    [theme=dark] .colab-df-convert:hover {\n",
              "      background-color: #434B5C;\n",
              "      box-shadow: 0px 1px 3px 1px rgba(0, 0, 0, 0.15);\n",
              "      filter: drop-shadow(0px 1px 2px rgba(0, 0, 0, 0.3));\n",
              "      fill: #FFFFFF;\n",
              "    }\n",
              "  </style>\n",
              "\n",
              "      <script>\n",
              "        const buttonEl =\n",
              "          document.querySelector('#df-1bfb5b46-03cc-4066-b2a0-88c6c53108cd button.colab-df-convert');\n",
              "        buttonEl.style.display =\n",
              "          google.colab.kernel.accessAllowed ? 'block' : 'none';\n",
              "\n",
              "        async function convertToInteractive(key) {\n",
              "          const element = document.querySelector('#df-1bfb5b46-03cc-4066-b2a0-88c6c53108cd');\n",
              "          const dataTable =\n",
              "            await google.colab.kernel.invokeFunction('convertToInteractive',\n",
              "                                                     [key], {});\n",
              "          if (!dataTable) return;\n",
              "\n",
              "          const docLinkHtml = 'Like what you see? Visit the ' +\n",
              "            '<a target=\"_blank\" href=https://colab.research.google.com/notebooks/data_table.ipynb>data table notebook</a>'\n",
              "            + ' to learn more about interactive tables.';\n",
              "          element.innerHTML = '';\n",
              "          dataTable['output_type'] = 'display_data';\n",
              "          await google.colab.output.renderOutput(dataTable, element);\n",
              "          const docLink = document.createElement('div');\n",
              "          docLink.innerHTML = docLinkHtml;\n",
              "          element.appendChild(docLink);\n",
              "        }\n",
              "      </script>\n",
              "    </div>\n",
              "  </div>\n",
              "  "
            ]
          },
          "metadata": {},
          "execution_count": 8
        }
      ]
    },
    {
      "cell_type": "code",
      "source": [
        "dataset['RiskLevel'].unique()"
      ],
      "metadata": {
        "colab": {
          "base_uri": "https://localhost:8080/"
        },
        "id": "rwyKO7N_4f5f",
        "outputId": "99a8c787-42b5-4237-c752-9949d628ad66"
      },
      "execution_count": 9,
      "outputs": [
        {
          "output_type": "execute_result",
          "data": {
            "text/plain": [
              "array(['high risk', 'low risk', 'mid risk'], dtype=object)"
            ]
          },
          "metadata": {},
          "execution_count": 9
        }
      ]
    },
    {
      "cell_type": "code",
      "source": [
        "dataset.info()"
      ],
      "metadata": {
        "colab": {
          "base_uri": "https://localhost:8080/"
        },
        "id": "NSguGzkv4548",
        "outputId": "f37cf47b-9292-4229-e5ad-876c3b3efdf6"
      },
      "execution_count": 10,
      "outputs": [
        {
          "output_type": "stream",
          "name": "stdout",
          "text": [
            "<class 'pandas.core.frame.DataFrame'>\n",
            "RangeIndex: 1014 entries, 0 to 1013\n",
            "Data columns (total 7 columns):\n",
            " #   Column       Non-Null Count  Dtype  \n",
            "---  ------       --------------  -----  \n",
            " 0   Age          1014 non-null   int64  \n",
            " 1   SystolicBP   1014 non-null   int64  \n",
            " 2   DiastolicBP  1014 non-null   int64  \n",
            " 3   BS           1014 non-null   float64\n",
            " 4   BodyTemp     1014 non-null   float64\n",
            " 5   HeartRate    1014 non-null   int64  \n",
            " 6   RiskLevel    1014 non-null   object \n",
            "dtypes: float64(2), int64(4), object(1)\n",
            "memory usage: 55.6+ KB\n"
          ]
        }
      ]
    },
    {
      "cell_type": "code",
      "source": [
        "X = dataset.iloc[:, 1:-1].values \n",
        "y = dataset.iloc[:, -1].values"
      ],
      "metadata": {
        "id": "w0TaxYQ284Wc"
      },
      "execution_count": 11,
      "outputs": []
    },
    {
      "cell_type": "code",
      "source": [
        "X"
      ],
      "metadata": {
        "colab": {
          "base_uri": "https://localhost:8080/"
        },
        "id": "9xxNfxoP8-FR",
        "outputId": "7bb14451-8674-471c-f20f-f1013fd0379a"
      },
      "execution_count": 13,
      "outputs": [
        {
          "output_type": "execute_result",
          "data": {
            "text/plain": [
              "array([[130.,  80.,  15.,  98.,  86.],\n",
              "       [140.,  90.,  13.,  98.,  70.],\n",
              "       [ 90.,  70.,   8., 100.,  80.],\n",
              "       ...,\n",
              "       [ 85.,  60.,  19.,  98.,  86.],\n",
              "       [120.,  90.,  18.,  98.,  70.],\n",
              "       [120.,  65.,   6., 101.,  76.]])"
            ]
          },
          "metadata": {},
          "execution_count": 13
        }
      ]
    },
    {
      "cell_type": "code",
      "source": [
        "y"
      ],
      "metadata": {
        "colab": {
          "base_uri": "https://localhost:8080/"
        },
        "id": "03ivEvex9HGg",
        "outputId": "2f36ec63-96fe-4a51-de19-5562283dec06"
      },
      "execution_count": 14,
      "outputs": [
        {
          "output_type": "execute_result",
          "data": {
            "text/plain": [
              "array(['high risk', 'high risk', 'high risk', ..., 'high risk',\n",
              "       'high risk', 'mid risk'], dtype=object)"
            ]
          },
          "metadata": {},
          "execution_count": 14
        }
      ]
    },
    {
      "cell_type": "code",
      "source": [
        "from sklearn.model_selection import train_test_split\n",
        "X_train, X_test, y_train, y_test = train_test_split(X, y, test_size = 0.20)\n",
        "print(len(X_train))\n",
        "print(len(X_test))\n",
        "print(len(y_train))\n",
        "print(len(y_test))"
      ],
      "metadata": {
        "colab": {
          "base_uri": "https://localhost:8080/"
        },
        "id": "IIz-NQYG9KZd",
        "outputId": "a8c83ca6-7286-412c-8a0b-b282fa8d3615"
      },
      "execution_count": 15,
      "outputs": [
        {
          "output_type": "stream",
          "name": "stdout",
          "text": [
            "811\n",
            "203\n",
            "811\n",
            "203\n"
          ]
        }
      ]
    },
    {
      "cell_type": "code",
      "source": [
        "from sklearn.ensemble import RandomForestClassifier\n",
        "rcla = RandomForestClassifier(n_estimators=500)\n",
        "rcla.fit(X_train, y_train)"
      ],
      "metadata": {
        "colab": {
          "base_uri": "https://localhost:8080/"
        },
        "id": "_1MdelND9MsP",
        "outputId": "3f141bc2-b672-4089-9568-293432b96bd5"
      },
      "execution_count": 16,
      "outputs": [
        {
          "output_type": "execute_result",
          "data": {
            "text/plain": [
              "RandomForestClassifier(n_estimators=500)"
            ]
          },
          "metadata": {},
          "execution_count": 16
        }
      ]
    },
    {
      "cell_type": "code",
      "source": [
        "rpred = rcla.predict(X_test)"
      ],
      "metadata": {
        "id": "CpYsy6oK9P5_"
      },
      "execution_count": 17,
      "outputs": []
    },
    {
      "cell_type": "code",
      "source": [
        "for i in range(len(y_test)):\n",
        "  print(y_test[i], rpred[i])"
      ],
      "metadata": {
        "colab": {
          "base_uri": "https://localhost:8080/"
        },
        "id": "OA-drutc9TcK",
        "outputId": "76d287fb-8c5c-4ae5-ca2f-9b9acc6ccf99"
      },
      "execution_count": 18,
      "outputs": [
        {
          "output_type": "stream",
          "name": "stdout",
          "text": [
            "high risk high risk\n",
            "mid risk mid risk\n",
            "high risk low risk\n",
            "mid risk high risk\n",
            "low risk high risk\n",
            "high risk high risk\n",
            "low risk low risk\n",
            "high risk high risk\n",
            "mid risk mid risk\n",
            "mid risk mid risk\n",
            "mid risk mid risk\n",
            "low risk low risk\n",
            "high risk high risk\n",
            "low risk mid risk\n",
            "low risk low risk\n",
            "low risk mid risk\n",
            "high risk high risk\n",
            "low risk low risk\n",
            "low risk low risk\n",
            "low risk low risk\n",
            "high risk mid risk\n",
            "mid risk mid risk\n",
            "low risk low risk\n",
            "low risk low risk\n",
            "low risk low risk\n",
            "mid risk high risk\n",
            "low risk mid risk\n",
            "low risk low risk\n",
            "mid risk mid risk\n",
            "low risk low risk\n",
            "mid risk mid risk\n",
            "high risk mid risk\n",
            "low risk mid risk\n",
            "mid risk mid risk\n",
            "low risk low risk\n",
            "mid risk mid risk\n",
            "low risk low risk\n",
            "high risk high risk\n",
            "low risk mid risk\n",
            "mid risk mid risk\n",
            "high risk high risk\n",
            "mid risk mid risk\n",
            "low risk low risk\n",
            "low risk low risk\n",
            "low risk high risk\n",
            "low risk low risk\n",
            "mid risk mid risk\n",
            "low risk mid risk\n",
            "high risk high risk\n",
            "high risk high risk\n",
            "mid risk mid risk\n",
            "low risk low risk\n",
            "low risk low risk\n",
            "low risk mid risk\n",
            "high risk high risk\n",
            "mid risk mid risk\n",
            "low risk mid risk\n",
            "low risk low risk\n",
            "low risk low risk\n",
            "high risk high risk\n",
            "mid risk mid risk\n",
            "high risk high risk\n",
            "mid risk mid risk\n",
            "mid risk mid risk\n",
            "high risk high risk\n",
            "mid risk mid risk\n",
            "mid risk mid risk\n",
            "high risk high risk\n",
            "mid risk mid risk\n",
            "mid risk low risk\n",
            "high risk high risk\n",
            "low risk low risk\n",
            "mid risk mid risk\n",
            "high risk high risk\n",
            "low risk low risk\n",
            "high risk high risk\n",
            "high risk high risk\n",
            "low risk low risk\n",
            "high risk high risk\n",
            "high risk high risk\n",
            "mid risk high risk\n",
            "mid risk mid risk\n",
            "mid risk low risk\n",
            "high risk high risk\n",
            "mid risk mid risk\n",
            "low risk low risk\n",
            "mid risk mid risk\n",
            "low risk mid risk\n",
            "low risk mid risk\n",
            "low risk low risk\n",
            "low risk low risk\n",
            "low risk low risk\n",
            "mid risk mid risk\n",
            "high risk high risk\n",
            "high risk high risk\n",
            "mid risk low risk\n",
            "high risk high risk\n",
            "mid risk mid risk\n",
            "high risk high risk\n",
            "low risk low risk\n",
            "low risk low risk\n",
            "high risk high risk\n",
            "low risk low risk\n",
            "high risk high risk\n",
            "low risk low risk\n",
            "low risk low risk\n",
            "mid risk mid risk\n",
            "low risk low risk\n",
            "mid risk mid risk\n",
            "high risk high risk\n",
            "high risk high risk\n",
            "low risk low risk\n",
            "mid risk mid risk\n",
            "low risk low risk\n",
            "low risk low risk\n",
            "low risk low risk\n",
            "mid risk low risk\n",
            "mid risk mid risk\n",
            "high risk high risk\n",
            "high risk high risk\n",
            "mid risk mid risk\n",
            "low risk high risk\n",
            "mid risk low risk\n",
            "low risk low risk\n",
            "low risk low risk\n",
            "mid risk low risk\n",
            "low risk mid risk\n",
            "mid risk high risk\n",
            "low risk mid risk\n",
            "high risk high risk\n",
            "low risk mid risk\n",
            "low risk low risk\n",
            "low risk low risk\n",
            "low risk low risk\n",
            "high risk high risk\n",
            "low risk low risk\n",
            "mid risk mid risk\n",
            "low risk low risk\n",
            "low risk low risk\n",
            "low risk low risk\n",
            "high risk mid risk\n",
            "low risk mid risk\n",
            "mid risk mid risk\n",
            "mid risk high risk\n",
            "high risk high risk\n",
            "low risk low risk\n",
            "mid risk mid risk\n",
            "mid risk mid risk\n",
            "high risk high risk\n",
            "low risk mid risk\n",
            "low risk low risk\n",
            "mid risk low risk\n",
            "high risk high risk\n",
            "mid risk low risk\n",
            "high risk mid risk\n",
            "high risk high risk\n",
            "low risk low risk\n",
            "mid risk mid risk\n",
            "high risk high risk\n",
            "low risk low risk\n",
            "low risk low risk\n",
            "low risk low risk\n",
            "low risk mid risk\n",
            "mid risk mid risk\n",
            "high risk low risk\n",
            "high risk high risk\n",
            "low risk mid risk\n",
            "low risk low risk\n",
            "low risk low risk\n",
            "mid risk low risk\n",
            "mid risk mid risk\n",
            "low risk mid risk\n",
            "mid risk mid risk\n",
            "low risk low risk\n",
            "low risk low risk\n",
            "mid risk mid risk\n",
            "high risk high risk\n",
            "high risk mid risk\n",
            "high risk high risk\n",
            "mid risk mid risk\n",
            "mid risk low risk\n",
            "low risk low risk\n",
            "high risk high risk\n",
            "mid risk mid risk\n",
            "mid risk high risk\n",
            "low risk mid risk\n",
            "mid risk high risk\n",
            "mid risk mid risk\n",
            "low risk low risk\n",
            "low risk mid risk\n",
            "low risk low risk\n",
            "high risk high risk\n",
            "low risk low risk\n",
            "high risk high risk\n",
            "high risk high risk\n",
            "low risk low risk\n",
            "high risk high risk\n",
            "high risk high risk\n",
            "high risk high risk\n",
            "mid risk mid risk\n",
            "mid risk low risk\n",
            "low risk low risk\n",
            "low risk mid risk\n"
          ]
        }
      ]
    },
    {
      "cell_type": "code",
      "source": [
        "from sklearn.metrics import accuracy_score, confusion_matrix"
      ],
      "metadata": {
        "id": "xS1skQc49X_n"
      },
      "execution_count": 19,
      "outputs": []
    },
    {
      "cell_type": "code",
      "source": [
        "rac  = accuracy_score(y_test, rpred)\n",
        "print(\"Accuracy: \", rac)"
      ],
      "metadata": {
        "colab": {
          "base_uri": "https://localhost:8080/"
        },
        "id": "1S-QbOd39eEK",
        "outputId": "5779eafb-1238-491f-d43a-be36e32ba8b4"
      },
      "execution_count": 20,
      "outputs": [
        {
          "output_type": "stream",
          "name": "stdout",
          "text": [
            "Accuracy:  0.7586206896551724\n"
          ]
        }
      ]
    },
    {
      "cell_type": "code",
      "source": [
        "def details():\n",
        "  data= []\n",
        "  print('Enter patient report details:')\n",
        "  \n",
        "  data.append(int(input('Age: ')))\n",
        "  data.append(int(input('SystolicBP: ')))\n",
        "  data.append(int(input('DiastolicBP: ')))\n",
        "  data.append(float(input('BS: ')))\n",
        "  data.append(float(input(' BodyTemp: ')))\n",
        "  data.append(int(input('HeartRate: ')))\n",
        "  \n",
        "  return data"
      ],
      "metadata": {
        "id": "9qaNWHUr9kCN"
      },
      "execution_count": 21,
      "outputs": []
    },
    {
      "cell_type": "code",
      "source": [
        "\n",
        "def prediction(data):\n",
        "  data=np.array(data)\n",
        "  data = np.reshape(data, (1, 5))\n",
        "  \n",
        "  pred = rcla.predict(data)\n",
        "  return pred"
      ],
      "metadata": {
        "id": "0klUEjhb9nVo"
      },
      "execution_count": 22,
      "outputs": []
    },
    {
      "cell_type": "code",
      "source": [
        "print('-Stage Prediction-')\n",
        "data = (details())\n",
        "\n",
        "print('Possible  Stages: Low, Medium, High')\n",
        "print('Patient stage: ', prediction(data[1:]))"
      ],
      "metadata": {
        "colab": {
          "base_uri": "https://localhost:8080/"
        },
        "id": "RI9FuNiF9rgh",
        "outputId": "05fbef68-7dd1-4d92-fca7-4335187bec01"
      },
      "execution_count": null,
      "outputs": [
        {
          "output_type": "stream",
          "name": "stdout",
          "text": [
            "-Stage Prediction-\n",
            "Enter patient report details:\n"
          ]
        }
      ]
    }
  ]
}